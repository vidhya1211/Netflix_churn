{
 "cells": [
  {
   "cell_type": "code",
   "execution_count": 1,
   "id": "af3cf94f",
   "metadata": {},
   "outputs": [],
   "source": [
    "import pandas as pd"
   ]
  },
  {
   "cell_type": "code",
   "execution_count": 6,
   "id": "0b4fcd78",
   "metadata": {},
   "outputs": [],
   "source": [
    "df=pd.read_csv(r'D:\\project\\netflix_customer_churn.csv')"
   ]
  },
  {
   "cell_type": "code",
   "execution_count": 7,
   "id": "025f3008",
   "metadata": {},
   "outputs": [
    {
     "data": {
      "text/html": [
       "<div>\n",
       "<style scoped>\n",
       "    .dataframe tbody tr th:only-of-type {\n",
       "        vertical-align: middle;\n",
       "    }\n",
       "\n",
       "    .dataframe tbody tr th {\n",
       "        vertical-align: top;\n",
       "    }\n",
       "\n",
       "    .dataframe thead th {\n",
       "        text-align: right;\n",
       "    }\n",
       "</style>\n",
       "<table border=\"1\" class=\"dataframe\">\n",
       "  <thead>\n",
       "    <tr style=\"text-align: right;\">\n",
       "      <th></th>\n",
       "      <th>customer_id</th>\n",
       "      <th>age</th>\n",
       "      <th>gender</th>\n",
       "      <th>subscription_type</th>\n",
       "      <th>watch_hours</th>\n",
       "      <th>last_login_days</th>\n",
       "      <th>region</th>\n",
       "      <th>device</th>\n",
       "      <th>monthly_fee</th>\n",
       "      <th>churned</th>\n",
       "      <th>payment_method</th>\n",
       "      <th>number_of_profiles</th>\n",
       "      <th>avg_watch_time_per_day</th>\n",
       "      <th>favorite_genre</th>\n",
       "    </tr>\n",
       "  </thead>\n",
       "  <tbody>\n",
       "    <tr>\n",
       "      <th>0</th>\n",
       "      <td>a9b75100-82a8-427a-a208-72f24052884a</td>\n",
       "      <td>51</td>\n",
       "      <td>Other</td>\n",
       "      <td>Basic</td>\n",
       "      <td>14.73</td>\n",
       "      <td>29</td>\n",
       "      <td>Africa</td>\n",
       "      <td>TV</td>\n",
       "      <td>8.99</td>\n",
       "      <td>1</td>\n",
       "      <td>Gift Card</td>\n",
       "      <td>1</td>\n",
       "      <td>0.49</td>\n",
       "      <td>Action</td>\n",
       "    </tr>\n",
       "    <tr>\n",
       "      <th>1</th>\n",
       "      <td>49a5dfd9-7e69-4022-a6ad-0a1b9767fb5b</td>\n",
       "      <td>47</td>\n",
       "      <td>Other</td>\n",
       "      <td>Standard</td>\n",
       "      <td>0.70</td>\n",
       "      <td>19</td>\n",
       "      <td>Europe</td>\n",
       "      <td>Mobile</td>\n",
       "      <td>13.99</td>\n",
       "      <td>1</td>\n",
       "      <td>Gift Card</td>\n",
       "      <td>5</td>\n",
       "      <td>0.03</td>\n",
       "      <td>Sci-Fi</td>\n",
       "    </tr>\n",
       "    <tr>\n",
       "      <th>2</th>\n",
       "      <td>4d71f6ce-fca9-4ff7-8afa-197ac24de14b</td>\n",
       "      <td>27</td>\n",
       "      <td>Female</td>\n",
       "      <td>Standard</td>\n",
       "      <td>16.32</td>\n",
       "      <td>10</td>\n",
       "      <td>Asia</td>\n",
       "      <td>TV</td>\n",
       "      <td>13.99</td>\n",
       "      <td>0</td>\n",
       "      <td>Crypto</td>\n",
       "      <td>2</td>\n",
       "      <td>1.48</td>\n",
       "      <td>Drama</td>\n",
       "    </tr>\n",
       "    <tr>\n",
       "      <th>3</th>\n",
       "      <td>d3c72c38-631b-4f9e-8a0e-de103cad1a7d</td>\n",
       "      <td>53</td>\n",
       "      <td>Other</td>\n",
       "      <td>Premium</td>\n",
       "      <td>4.51</td>\n",
       "      <td>12</td>\n",
       "      <td>Oceania</td>\n",
       "      <td>TV</td>\n",
       "      <td>17.99</td>\n",
       "      <td>1</td>\n",
       "      <td>Crypto</td>\n",
       "      <td>2</td>\n",
       "      <td>0.35</td>\n",
       "      <td>Horror</td>\n",
       "    </tr>\n",
       "    <tr>\n",
       "      <th>4</th>\n",
       "      <td>4e265c34-103a-4dbb-9553-76c9aa47e946</td>\n",
       "      <td>56</td>\n",
       "      <td>Other</td>\n",
       "      <td>Standard</td>\n",
       "      <td>1.89</td>\n",
       "      <td>13</td>\n",
       "      <td>Africa</td>\n",
       "      <td>Mobile</td>\n",
       "      <td>13.99</td>\n",
       "      <td>1</td>\n",
       "      <td>Crypto</td>\n",
       "      <td>2</td>\n",
       "      <td>0.13</td>\n",
       "      <td>Action</td>\n",
       "    </tr>\n",
       "  </tbody>\n",
       "</table>\n",
       "</div>"
      ],
      "text/plain": [
       "                            customer_id  age  gender subscription_type  \\\n",
       "0  a9b75100-82a8-427a-a208-72f24052884a   51   Other             Basic   \n",
       "1  49a5dfd9-7e69-4022-a6ad-0a1b9767fb5b   47   Other          Standard   \n",
       "2  4d71f6ce-fca9-4ff7-8afa-197ac24de14b   27  Female          Standard   \n",
       "3  d3c72c38-631b-4f9e-8a0e-de103cad1a7d   53   Other           Premium   \n",
       "4  4e265c34-103a-4dbb-9553-76c9aa47e946   56   Other          Standard   \n",
       "\n",
       "   watch_hours  last_login_days   region  device  monthly_fee  churned  \\\n",
       "0        14.73               29   Africa      TV         8.99        1   \n",
       "1         0.70               19   Europe  Mobile        13.99        1   \n",
       "2        16.32               10     Asia      TV        13.99        0   \n",
       "3         4.51               12  Oceania      TV        17.99        1   \n",
       "4         1.89               13   Africa  Mobile        13.99        1   \n",
       "\n",
       "  payment_method  number_of_profiles  avg_watch_time_per_day favorite_genre  \n",
       "0      Gift Card                   1                    0.49         Action  \n",
       "1      Gift Card                   5                    0.03         Sci-Fi  \n",
       "2         Crypto                   2                    1.48          Drama  \n",
       "3         Crypto                   2                    0.35         Horror  \n",
       "4         Crypto                   2                    0.13         Action  "
      ]
     },
     "execution_count": 7,
     "metadata": {},
     "output_type": "execute_result"
    }
   ],
   "source": [
    "df.head()"
   ]
  },
  {
   "cell_type": "code",
   "execution_count": 8,
   "id": "6db540b7",
   "metadata": {},
   "outputs": [
    {
     "name": "stdout",
     "output_type": "stream",
     "text": [
      "<class 'pandas.core.frame.DataFrame'>\n",
      "RangeIndex: 5000 entries, 0 to 4999\n",
      "Data columns (total 14 columns):\n",
      " #   Column                  Non-Null Count  Dtype  \n",
      "---  ------                  --------------  -----  \n",
      " 0   customer_id             5000 non-null   object \n",
      " 1   age                     5000 non-null   int64  \n",
      " 2   gender                  5000 non-null   object \n",
      " 3   subscription_type       5000 non-null   object \n",
      " 4   watch_hours             5000 non-null   float64\n",
      " 5   last_login_days         5000 non-null   int64  \n",
      " 6   region                  5000 non-null   object \n",
      " 7   device                  5000 non-null   object \n",
      " 8   monthly_fee             5000 non-null   float64\n",
      " 9   churned                 5000 non-null   int64  \n",
      " 10  payment_method          5000 non-null   object \n",
      " 11  number_of_profiles      5000 non-null   int64  \n",
      " 12  avg_watch_time_per_day  5000 non-null   float64\n",
      " 13  favorite_genre          5000 non-null   object \n",
      "dtypes: float64(3), int64(4), object(7)\n",
      "memory usage: 547.0+ KB\n"
     ]
    }
   ],
   "source": [
    "df.info()"
   ]
  },
  {
   "cell_type": "code",
   "execution_count": 9,
   "id": "4552b664",
   "metadata": {},
   "outputs": [
    {
     "data": {
      "text/plain": [
       "customer_id               0\n",
       "age                       0\n",
       "gender                    0\n",
       "subscription_type         0\n",
       "watch_hours               0\n",
       "last_login_days           0\n",
       "region                    0\n",
       "device                    0\n",
       "monthly_fee               0\n",
       "churned                   0\n",
       "payment_method            0\n",
       "number_of_profiles        0\n",
       "avg_watch_time_per_day    0\n",
       "favorite_genre            0\n",
       "dtype: int64"
      ]
     },
     "execution_count": 9,
     "metadata": {},
     "output_type": "execute_result"
    }
   ],
   "source": [
    "df.isnull().sum()"
   ]
  },
  {
   "cell_type": "code",
   "execution_count": 10,
   "id": "7fca24a2",
   "metadata": {},
   "outputs": [
    {
     "data": {
      "text/plain": [
       "(5000, 14)"
      ]
     },
     "execution_count": 10,
     "metadata": {},
     "output_type": "execute_result"
    }
   ],
   "source": [
    "df.shape"
   ]
  },
  {
   "cell_type": "code",
   "execution_count": 11,
   "id": "a1704257",
   "metadata": {},
   "outputs": [],
   "source": [
    "import pymysql"
   ]
  },
  {
   "cell_type": "code",
   "execution_count": 17,
   "id": "6f61a59c",
   "metadata": {},
   "outputs": [],
   "source": [
    "connection= pymysql.connect(\n",
    "    host='localhost',\n",
    "    user='root',\n",
    "    password='DataScience@12',\n",
    "    database='netflix',\n",
    "    port=3306\n",
    ")\n",
    "cursor=connection.cursor()"
   ]
  },
  {
   "cell_type": "code",
   "execution_count": 22,
   "id": "317b216d",
   "metadata": {},
   "outputs": [],
   "source": [
    "create_table='''create table if not exists df(customer_id text,\n",
    "                                                age int,\n",
    "                                                gender varchar(20),\n",
    "                                                subscription_type text,\n",
    "                                                watch_hours float,\n",
    "                                                last_login_days int,\n",
    "                                                region varchar(50),\n",
    "                                                device varchar(30),\n",
    "                                                monthly_fee float,\n",
    "                                                churned int,\n",
    "                                                payment_method text,\n",
    "                                                number_of_profiles int,\n",
    "                                                avg_watch_time_per_day float,\n",
    "                                                favorite_genre varchar(75))'''\n",
    "cursor.execute(create_table)\n",
    "connection.commit()\n",
    "for index, row in df.iterrows():\n",
    "    insert_table='''insert into df(customer_id, age, gender, subscription_type, watch_hours, last_login_days, region, device, monthly_fee, \n",
    "                                    churned, payment_method, number_of_profiles, avg_watch_time_per_day, favorite_genre) values(%s,%s,%s,%s,%s,%s,%s,%s,%s,%s,%s,%s,%s,%s)'''\n",
    "    values=(row['customer_id'], row['age'], row['gender'], row['subscription_type'], row['watch_hours'],row['last_login_days'], row['region'], row['device'], row['monthly_fee'], \n",
    "                    row['churned'], row['payment_method'], row['number_of_profiles'], row['avg_watch_time_per_day'], row['favorite_genre'])\n",
    "    cursor.execute(insert_table,values)\n",
    "    connection.commit()"
   ]
  },
  {
   "cell_type": "code",
   "execution_count": 18,
   "id": "a93aacfc",
   "metadata": {},
   "outputs": [
    {
     "name": "stdout",
     "output_type": "stream",
     "text": [
      "['customer_id', 'age', 'gender', 'subscription_type', 'watch_hours', 'last_login_days', 'region', 'device', 'monthly_fee', 'churned', 'payment_method', 'number_of_profiles', 'avg_watch_time_per_day', 'favorite_genre']\n"
     ]
    }
   ],
   "source": [
    "print(df.columns.tolist())"
   ]
  },
  {
   "cell_type": "code",
   "execution_count": 19,
   "id": "b0cb7f23",
   "metadata": {},
   "outputs": [
    {
     "name": "stdout",
     "output_type": "stream",
     "text": [
      "<class 'pandas.core.frame.DataFrame'>\n",
      "RangeIndex: 5000 entries, 0 to 4999\n",
      "Data columns (total 14 columns):\n",
      " #   Column                  Non-Null Count  Dtype  \n",
      "---  ------                  --------------  -----  \n",
      " 0   customer_id             5000 non-null   object \n",
      " 1   age                     5000 non-null   int64  \n",
      " 2   gender                  5000 non-null   object \n",
      " 3   subscription_type       5000 non-null   object \n",
      " 4   watch_hours             5000 non-null   float64\n",
      " 5   last_login_days         5000 non-null   int64  \n",
      " 6   region                  5000 non-null   object \n",
      " 7   device                  5000 non-null   object \n",
      " 8   monthly_fee             5000 non-null   float64\n",
      " 9   churned                 5000 non-null   int64  \n",
      " 10  payment_method          5000 non-null   object \n",
      " 11  number_of_profiles      5000 non-null   int64  \n",
      " 12  avg_watch_time_per_day  5000 non-null   float64\n",
      " 13  favorite_genre          5000 non-null   object \n",
      "dtypes: float64(3), int64(4), object(7)\n",
      "memory usage: 547.0+ KB\n"
     ]
    }
   ],
   "source": [
    "df.info()"
   ]
  },
  {
   "cell_type": "code",
   "execution_count": null,
   "id": "a60a09b2",
   "metadata": {},
   "outputs": [],
   "source": []
  }
 ],
 "metadata": {
  "kernelspec": {
   "display_name": "venv",
   "language": "python",
   "name": "python3"
  },
  "language_info": {
   "codemirror_mode": {
    "name": "ipython",
    "version": 3
   },
   "file_extension": ".py",
   "mimetype": "text/x-python",
   "name": "python",
   "nbconvert_exporter": "python",
   "pygments_lexer": "ipython3",
   "version": "3.11.7"
  }
 },
 "nbformat": 4,
 "nbformat_minor": 5
}
